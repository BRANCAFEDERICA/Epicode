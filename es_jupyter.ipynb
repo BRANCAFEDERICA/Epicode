{
 "cells": [
  {
   "cell_type": "code",
   "execution_count": 1,
   "metadata": {},
   "outputs": [
    {
     "name": "stdout",
     "output_type": "stream",
     "text": [
      "Hello world!\n"
     ]
    }
   ],
   "source": [
    "%run script_esempio.py"
   ]
  },
  {
   "cell_type": "code",
   "execution_count": 3,
   "metadata": {},
   "outputs": [
    {
     "name": "stdout",
     "output_type": "stream",
     "text": [
      "Writing output.txt\n"
     ]
    }
   ],
   "source": [
    "%%writefile output.txt\n",
    "\"Questo è un esempio di scrittura in file usando magic command\""
   ]
  },
  {
   "cell_type": "code",
   "execution_count": 5,
   "metadata": {},
   "outputs": [
    {
     "name": "stdout",
     "output_type": "stream",
     "text": [
      "25\n",
      "72.9 ns ± 0.251 ns per loop (mean ± std. dev. of 7 runs, 10,000,000 loops each)\n"
     ]
    }
   ],
   "source": [
    "def calcola_quadrato(n):\n",
    "    quadrato = n ** 2\n",
    "    return quadrato\n",
    "\n",
    "print(calcola_quadrato(5))\n",
    "%timeit calcola_quadrato(5)\n"
   ]
  },
  {
   "cell_type": "code",
   "execution_count": 18,
   "metadata": {},
   "outputs": [
    {
     "name": "stdout",
     "output_type": "stream",
     "text": [
      "C:\\Users\\fedeb\\OneDrive\\Documents\n"
     ]
    }
   ],
   "source": [
    "%cd C:\\Users\\fedeb\\OneDrive\\Documents"
   ]
  },
  {
   "cell_type": "code",
   "execution_count": 19,
   "metadata": {},
   "outputs": [
    {
     "name": "stdout",
     "output_type": "stream",
     "text": [
      " Il volume nell'unit� C � Windows\n",
      " Numero di serie del volume: 540C-2848\n",
      "\n",
      " Directory di C:\\Users\\fedeb\\OneDrive\\Documents\n",
      "\n",
      "23/01/2024  14:33    <DIR>          .\n",
      "18/10/2023  19:21    <DIR>          ..\n",
      "28/03/2023  21:22    <DIR>          Adobe\n",
      "23/01/2024  14:33    <DIR>          Da_sistemare\n",
      "10/03/2022  16:44    <DIR>          Fax\n",
      "28/11/2021  12:34    <DIR>          FeedbackHub\n",
      "28/11/2021  21:40    <DIR>          Modelli di Office personalizzati\n",
      "10/03/2022  16:44    <DIR>          Scanned Documents\n",
      "               0 File              0 byte\n",
      "               8 Directory  43.758.673.920 byte disponibili\n"
     ]
    }
   ],
   "source": [
    "%ls"
   ]
  }
 ],
 "metadata": {
  "kernelspec": {
   "display_name": "Python 3",
   "language": "python",
   "name": "python3"
  },
  "language_info": {
   "codemirror_mode": {
    "name": "ipython",
    "version": 3
   },
   "file_extension": ".py",
   "mimetype": "text/x-python",
   "name": "python",
   "nbconvert_exporter": "python",
   "pygments_lexer": "ipython3",
   "version": "3.12.1"
  }
 },
 "nbformat": 4,
 "nbformat_minor": 2
}
