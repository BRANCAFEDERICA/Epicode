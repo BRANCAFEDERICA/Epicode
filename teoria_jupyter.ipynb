{
 "cells": [
  {
   "cell_type": "markdown",
   "metadata": {},
   "source": [
    "# Titolo\n",
    "## Sottotitolo\n",
    "questo è un testo, magari scritto in **grassetto** o in *corsivo*\n"
   ]
  },
  {
   "cell_type": "markdown",
   "metadata": {},
   "source": [
    "[Google](http://www.google.it)"
   ]
  },
  {
   "cell_type": "code",
   "execution_count": 14,
   "metadata": {},
   "outputs": [
    {
     "name": "stdout",
     "output_type": "stream",
     "text": [
      "120\n",
      "34.6 µs ± 8.94 µs per loop (mean ± std. dev. of 7 runs, 10,000 loops each)\n"
     ]
    }
   ],
   "source": [
    "def fact(n):\n",
    "    if (n == 0):\n",
    "        return 1\n",
    "    return n * fact (n-1)\n",
    "\n",
    "print (fact(5))\n",
    "%timeit fact(5)\n"
   ]
  },
  {
   "cell_type": "code",
   "execution_count": 15,
   "metadata": {},
   "outputs": [
    {
     "name": "stdout",
     "output_type": "stream",
     "text": [
      " Il volume nell'unit� C � Windows\n",
      " Numero di serie del volume: 540C-2848\n",
      "\n",
      " Directory di c:\\Users\\fedeb\\OneDrive\\Desktop\\Python\\5_lezione\\Esercizi_5\n",
      "\n",
      "23/01/2024  10:47    <DIR>          .\n",
      "23/01/2024  09:33    <DIR>          ..\n",
      "23/01/2024  10:47    <DIR>          __pycache__\n",
      "23/01/2024  09:51                13 import.py\n",
      "23/01/2024  09:56                 0 jupyter.ipynb\n",
      "23/01/2024  10:49                21 prova.py\n",
      "               3 File             34 byte\n",
      "               3 Directory  43.720.527.872 byte disponibili\n"
     ]
    }
   ],
   "source": [
    "%ls"
   ]
  },
  {
   "cell_type": "code",
   "execution_count": 11,
   "metadata": {},
   "outputs": [
    {
     "name": "stdout",
     "output_type": "stream",
     "text": [
      "Hello world!\n"
     ]
    }
   ],
   "source": [
    "%run prova.py"
   ]
  },
  {
   "cell_type": "code",
   "execution_count": 13,
   "metadata": {},
   "outputs": [],
   "source": [
    "# %load prova.py\n",
    "print(\"Hello world!\")"
   ]
  },
  {
   "cell_type": "code",
   "execution_count": 19,
   "metadata": {},
   "outputs": [
    {
     "name": "stdout",
     "output_type": "stream",
     "text": [
      "[WinError 2] Impossibile trovare il file specificato: 'Esercizi_3_lezione'\n",
      "C:\\Users\\fedeb\n"
     ]
    },
    {
     "name": "stderr",
     "output_type": "stream",
     "text": [
      "C:\\Users\\fedeb\\AppData\\Roaming\\Python\\Python312\\site-packages\\IPython\\core\\magics\\osm.py:393: UserWarning: using bookmarks requires you to install the `pickleshare` library.\n",
      "  bkms = self.shell.db.get('bookmarks', {})\n"
     ]
    }
   ],
   "source": [
    "%cd Esercizi_3_lezione"
   ]
  }
 ],
 "metadata": {
  "kernelspec": {
   "display_name": "Python 3",
   "language": "python",
   "name": "python3"
  },
  "language_info": {
   "codemirror_mode": {
    "name": "ipython",
    "version": 3
   },
   "file_extension": ".py",
   "mimetype": "text/x-python",
   "name": "python",
   "nbconvert_exporter": "python",
   "pygments_lexer": "ipython3",
   "version": "3.12.1"
  }
 },
 "nbformat": 4,
 "nbformat_minor": 2
}
